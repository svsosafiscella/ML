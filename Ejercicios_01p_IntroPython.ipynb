{
  "nbformat": 4,
  "nbformat_minor": 0,
  "metadata": {
    "colab": {
      "name": "Copy of Ejercicios_01p_IntroPython.ipynb",
      "provenance": [],
      "collapsed_sections": [],
      "include_colab_link": true
    },
    "kernelspec": {
      "display_name": "Python 3",
      "language": "python",
      "name": "python3"
    },
    "language_info": {
      "codemirror_mode": {
        "name": "ipython",
        "version": 3
      },
      "file_extension": ".py",
      "mimetype": "text/x-python",
      "name": "python",
      "nbconvert_exporter": "python",
      "pygments_lexer": "ipython3",
      "version": "3.8.3"
    },
    "toc": {
      "base_numbering": 1,
      "nav_menu": {},
      "number_sections": true,
      "sideBar": true,
      "skip_h1_title": false,
      "title_cell": "Table of Contents",
      "title_sidebar": "Contents",
      "toc_cell": false,
      "toc_position": {},
      "toc_section_display": true,
      "toc_window_display": false
    }
  },
  "cells": [
    {
      "cell_type": "markdown",
      "metadata": {
        "id": "view-in-github",
        "colab_type": "text"
      },
      "source": [
        "<a href=\"https://colab.research.google.com/github/svsosafiscella/ML/blob/main/Ejercicios_01p_IntroPython.ipynb\" target=\"_parent\"><img src=\"https://colab.research.google.com/assets/colab-badge.svg\" alt=\"Open In Colab\"/></a>"
      ]
    },
    {
      "cell_type": "markdown",
      "metadata": {
        "id": "OIHiN71l-V-y"
      },
      "source": [
        "# Guía de ejercicios de Python"
      ]
    },
    {
      "cell_type": "code",
      "metadata": {
        "id": "gwdzFKL6-V-4"
      },
      "source": [
        "# Por si alguien corre en python2\n",
        "from __future__ import division\n",
        "\n",
        "# Preparamos todo para correr\n",
        "import numpy as np\n",
        "from math import *\n",
        "from matplotlib import pyplot as plt\n",
        "import pandas as pd"
      ],
      "execution_count": null,
      "outputs": []
    },
    {
      "cell_type": "markdown",
      "metadata": {
        "id": "awe7q_km-V_H"
      },
      "source": [
        "## Ejercicio 1\n",
        "\n",
        "\n",
        "a. Cree un array de numpy de 10x10 cuyos elementos estén distribuidos de manera uniforme entre 1 y 3.\n",
        "\n",
        "b. A partir de este array, cree un array unidimensional que contenga todos los elementos de la diagonal.\n",
        "\n",
        "c. Determine si la matriz es inversible y de serlo obtenga sus autovalores y autovectores utilizando <tt>numpy.linalg.eig</tt>.\n",
        "\n",
        "d. Utilizando indexing obtenga un array unidimensional que contenga el elemento más cercano a 2.33 de cada fila. Repita para cada columna.\n",
        "\n",
        "<b>Tip</b>: Utilice <tt>np.abs</tt> y <tt>np.argmin</tt>.\n",
        "\n",
        "e. Haga estadistica sobre los items b,c,d. ¿Tiene sentido lo que encuentra? Visualice lo encontrado en función del número de muestras N.\n",
        "\n",
        "<b>Tip</b>: Una manera sencilla es repetir el ejercicio creando un array de numpy de dimensión Nx10x10, donde N es el número de muestras y loopear sobre ellas.\n",
        "\n",
        "<b> Tip </b>: El item c puede generar problemas ya que al hacer estadistica puede haber un caso en el que la matriz no sea inversible. ¿Qué se puede hacer para tener en cuenta este problema?\n",
        "\n",
        "d. Repita los items a, b,c y e para una distribución normal con media 1.0 y varianza 0.05."
      ]
    },
    {
      "cell_type": "markdown",
      "metadata": {
        "id": "1S2rsC7yU30f"
      },
      "source": [
        "Ejercicio 1a"
      ]
    },
    {
      "cell_type": "code",
      "metadata": {
        "id": "oMsg9k71VNm4"
      },
      "source": [
        "from numpy import random\n",
        "import numpy as np"
      ],
      "execution_count": 4,
      "outputs": []
    },
    {
      "cell_type": "code",
      "metadata": {
        "id": "1L9xCz0aKHa4",
        "colab": {
          "base_uri": "https://localhost:8080/"
        },
        "outputId": "95fc5c77-6eec-4fdc-d4d1-c16c252e4f07"
      },
      "source": [
        "array = random.uniform(1,3,[10,10])\n",
        "print(array)"
      ],
      "execution_count": 19,
      "outputs": [
        {
          "output_type": "stream",
          "text": [
            "[[1.74952495 2.92790294 2.11061623 2.29264453 2.58390849 2.45948555\n",
            "  2.32586972 2.95137744 2.34575928 1.63944367]\n",
            " [1.68080787 2.23541471 2.57135512 1.01712416 2.8242491  2.96445492\n",
            "  1.12260918 2.64024293 1.04102104 1.60280399]\n",
            " [2.66999719 2.17089996 2.4706159  1.16994708 1.43950359 1.10278421\n",
            "  2.90696421 2.85076456 1.87477431 2.83342598]\n",
            " [1.67473414 1.01272621 2.0566104  1.42197265 1.66993638 2.25323413\n",
            "  1.26147786 1.30766662 1.7050847  2.71073642]\n",
            " [2.43031862 1.19028589 1.16427329 1.28780465 2.70970539 2.69429188\n",
            "  2.70397766 2.40077594 1.68284015 2.5759347 ]\n",
            " [1.8297717  1.77399567 2.13224517 2.09291553 2.17663414 2.05749155\n",
            "  2.60469289 2.6188223  2.47083283 1.2195627 ]\n",
            " [1.10462109 2.39374379 2.55323876 1.34306263 2.70122729 2.93175334\n",
            "  2.16354388 1.33290668 1.84017586 2.27791486]\n",
            " [1.60209974 1.59693847 2.06571441 1.61726448 1.68627793 1.92684248\n",
            "  2.9049258  2.12082525 1.38437155 1.05012424]\n",
            " [1.4937003  2.84198192 1.9314348  1.80233006 1.50851313 2.87855307\n",
            "  2.71666128 2.19249144 1.61410997 1.81790245]\n",
            " [1.94857264 1.20070827 2.87368815 1.47877467 1.90713517 2.45712707\n",
            "  2.10447852 1.52092071 1.74382277 1.86376183]]\n"
          ],
          "name": "stdout"
        }
      ]
    },
    {
      "cell_type": "markdown",
      "metadata": {
        "id": "Lc1yyQ9wXTag"
      },
      "source": [
        "Ejercicio 1b"
      ]
    },
    {
      "cell_type": "code",
      "metadata": {
        "colab": {
          "base_uri": "https://localhost:8080/"
        },
        "id": "Q9Gcr8G0XVUT",
        "outputId": "190ad83c-dd63-48f0-9402-99e775426f51"
      },
      "source": [
        "diagonal = []\n",
        "for n in range(len(array)):\n",
        "  diagonal.append(array[n,n])\n",
        "\n",
        "print(diagonal)"
      ],
      "execution_count": 22,
      "outputs": [
        {
          "output_type": "stream",
          "text": [
            "[1.7495249461947269, 2.2354147100373316, 2.4706158970568226, 1.4219726455671866, 2.709705390672588, 2.0574915473463906, 2.1635438778122023, 2.1208252505020058, 1.6141099705535267, 1.8637618333513504]\n"
          ],
          "name": "stdout"
        }
      ]
    },
    {
      "cell_type": "markdown",
      "metadata": {
        "id": "E-RVM355XqSX"
      },
      "source": [
        "Ejercicio 1c"
      ]
    },
    {
      "cell_type": "code",
      "metadata": {
        "colab": {
          "base_uri": "https://localhost:8080/"
        },
        "id": "niA_mzwUXr4A",
        "outputId": "6ae13db9-62c8-4b96-ce70-09afdd85d1cd"
      },
      "source": [
        "if np.linalg.det(array) == 0:\n",
        "  print(\"La matriz no es invertible\")\n",
        "\n",
        "else:\n",
        "  print(\"La matriz es invertible\")\n",
        "  print()\n",
        "\n",
        "  evalues, evects = np.linalg.eig(array)\n",
        "  \n",
        "  print(\"Eigenvalues of the matrix\")\n",
        "  for evalue in evalues:\n",
        "    print(evalue)\n",
        "  print()\n",
        "  \n",
        "  print(\"Eigenvectors of the matrix\")\n",
        "  for evect in evects:\n",
        "    print(evect)"
      ],
      "execution_count": 28,
      "outputs": [
        {
          "output_type": "stream",
          "text": [
            "La matriz es invertible\n",
            "\n",
            "Eigenvalues of the matrix\n",
            "(20.250726288814544+0j)\n",
            "(-0.722901030011164+1.4508038449706055j)\n",
            "(-0.722901030011164-1.4508038449706055j)\n",
            "(-1.146252907482399+0.41268547066227107j)\n",
            "(-1.146252907482399-0.41268547066227107j)\n",
            "(1.238846202593344+0.5575095186087587j)\n",
            "(1.238846202593344-0.5575095186087587j)\n",
            "(0.43546788638354034+0j)\n",
            "(0.4906936818482458+0.5237970342866928j)\n",
            "(0.4906936818482458-0.5237970342866928j)\n",
            "\n",
            "Eigenvectors of the matrix\n",
            "[-0.36190274+0.j         -0.16960747-0.24690768j -0.16960747+0.24690768j\n",
            " -0.36387682-0.16439867j -0.36387682+0.16439867j -0.17331105-0.12050938j\n",
            " -0.17331105+0.12050938j  0.44356744+0.j         -0.54072566+0.j\n",
            " -0.54072566-0.j        ]\n",
            "[-0.30813178+0.j          0.50995644+0.j          0.50995644-0.j\n",
            " -0.02647169+0.06040292j -0.02647169-0.06040292j -0.37600648-0.05601191j\n",
            " -0.37600648+0.05601191j  0.1370841 +0.j         -0.41989126-0.0401676j\n",
            " -0.41989126+0.0401676j ]\n",
            "[-0.33581351+0.j         -0.24789344+0.06405488j -0.24789344-0.06405488j\n",
            "  0.12589302-0.24204247j  0.12589302+0.24204247j  0.05430191+0.39589495j\n",
            "  0.05430191-0.39589495j -0.10541402+0.j          0.22825452+0.10201303j\n",
            "  0.22825452-0.10201303j]\n",
            "[-0.26698977+0.j          0.30606518+0.0478967j   0.30606518-0.0478967j\n",
            "  0.03792702-0.09207456j  0.03792702+0.09207456j  0.55146542+0.j\n",
            "  0.55146542-0.j          0.60265856+0.j          0.26582137-0.20119695j\n",
            "  0.26582137+0.20119695j]\n",
            "[-0.32624987+0.j          0.07719512+0.12500406j  0.07719512-0.12500406j\n",
            "  0.37556072-0.12775877j  0.37556072+0.12775877j -0.14081423-0.438694j\n",
            " -0.14081423+0.438694j    0.25182491+0.j          0.01444638+0.01908993j\n",
            "  0.01444638-0.01908993j]\n",
            "[-0.32608023+0.j         -0.2455325 +0.1792032j  -0.2455325 -0.1792032j\n",
            " -0.42258307+0.01799406j -0.42258307-0.01799406j  0.02819082-0.0511066j\n",
            "  0.02819082+0.0511066j  -0.23376465+0.j         -0.11001575-0.04825379j\n",
            " -0.11001575+0.04825379j]\n",
            "[-0.32301612+0.j          0.1383981 -0.28701459j  0.1383981 +0.28701459j\n",
            " -0.19281602-0.00708218j -0.19281602+0.00708218j -0.06868733-0.00955069j\n",
            " -0.06868733+0.00955069j -0.24383   +0.j          0.19280506+0.17011819j\n",
            "  0.19280506-0.17011819j]\n",
            "[-0.28001232+0.j         -0.22509968+0.09050154j -0.22509968-0.09050154j\n",
            "  0.09805452+0.22233367j  0.09805452-0.22233367j -0.01834844+0.03597652j\n",
            " -0.01834844-0.03597652j -0.30347447+0.j          0.25140906-0.17351479j\n",
            "  0.25140906+0.17351479j]\n",
            "[-0.32273911+0.j         -0.15591583-0.30252508j -0.15591583+0.30252508j\n",
            "  0.46860997+0.j          0.46860997-0.j         -0.04704074+0.09674684j\n",
            " -0.04704074-0.09674684j -0.36893394+0.j         -0.27589651+0.08897835j\n",
            " -0.27589651-0.08897835j]\n",
            "[-0.30058747+0.j          0.13332602+0.28408847j  0.13332602-0.28408847j\n",
            " -0.01516481+0.31543442j -0.01516481-0.31543442j  0.30281649+0.14740599j\n",
            "  0.30281649-0.14740599j  0.06650294+0.j          0.31040405+0.03501496j\n",
            "  0.31040405-0.03501496j]\n"
          ],
          "name": "stdout"
        }
      ]
    },
    {
      "cell_type": "markdown",
      "metadata": {
        "id": "buKsp11hYu8r"
      },
      "source": [
        "Ejercicio 1d"
      ]
    },
    {
      "cell_type": "code",
      "metadata": {
        "colab": {
          "base_uri": "https://localhost:8080/"
        },
        "id": "G4ZrjMXwYxB_",
        "outputId": "7a88e101-7c5e-4cfb-92b0-31b336b2f719"
      },
      "source": [
        "value = 2.33\n",
        "diff = np.empty([])\n",
        "\n",
        "#filas\n",
        "\n",
        "for n in range(len(array)): # barremos filas\n",
        "\n",
        "  for m in range(len(array)): # barremos columnas\n",
        "\n",
        "    np.append(diff, abs(array[n,m] - value))\n",
        "\n",
        "  print(\"El valor más cercano a \" + str(value) + \" en la fila \" + str(n+1) + \" es: \" + str(array[n, np.argmin(diff) ]) )\n",
        "\n",
        "  #columnas\n",
        "\n",
        "print()\n",
        "\n",
        "for m in range(len(array)): # barremos filas\n",
        "\n",
        "  for n in range(len(array)): # barremos columnas\n",
        "\n",
        "    np.append(diff, abs(array[n,m] - value))\n",
        "\n",
        "  print(\"El valor más cercano a \" + str(value) + \" en la columna \" + str(m+1) + \" es: \" + str(array[np.argmin(diff), m]) )\n"
      ],
      "execution_count": 41,
      "outputs": [
        {
          "output_type": "stream",
          "text": [
            "El valor más cercano a 2.33 en la fila 1 es: 1.7495249461947269\n",
            "El valor más cercano a 2.33 en la fila 2 es: 1.680807870900655\n",
            "El valor más cercano a 2.33 en la fila 3 es: 2.6699971914339757\n",
            "El valor más cercano a 2.33 en la fila 4 es: 1.6747341428480762\n",
            "El valor más cercano a 2.33 en la fila 5 es: 2.4303186165083615\n",
            "El valor más cercano a 2.33 en la fila 6 es: 1.8297717012359722\n",
            "El valor más cercano a 2.33 en la fila 7 es: 1.1046210911931496\n",
            "El valor más cercano a 2.33 en la fila 8 es: 1.6020997447600804\n",
            "El valor más cercano a 2.33 en la fila 9 es: 1.4937003028303317\n",
            "El valor más cercano a 2.33 en la fila 10 es: 1.9485726371809342\n",
            "\n",
            "El valor más cercano a 2.33 en la columna 1 es: 1.7495249461947269\n",
            "El valor más cercano a 2.33 en la columna 2 es: 2.927902938742622\n",
            "El valor más cercano a 2.33 en la columna 3 es: 2.1106162301643323\n",
            "El valor más cercano a 2.33 en la columna 4 es: 2.2926445296432014\n",
            "El valor más cercano a 2.33 en la columna 5 es: 2.5839084920543263\n",
            "El valor más cercano a 2.33 en la columna 6 es: 2.4594855475306443\n",
            "El valor más cercano a 2.33 en la columna 7 es: 2.3258697208854926\n",
            "El valor más cercano a 2.33 en la columna 8 es: 2.951377441931456\n",
            "El valor más cercano a 2.33 en la columna 9 es: 2.3457592789496235\n",
            "El valor más cercano a 2.33 en la columna 10 es: 1.6394436657347604\n"
          ],
          "name": "stdout"
        }
      ]
    },
    {
      "cell_type": "markdown",
      "metadata": {
        "id": "gShYDlLDU2YT"
      },
      "source": [
        ""
      ]
    },
    {
      "cell_type": "markdown",
      "metadata": {
        "id": "N6L7JWotS1CQ"
      },
      "source": [
        "## Ejercicio 2\n",
        "\n",
        "a) Cree un array $x_{ij}$ distribuido normalmente (`np.random.randn`), con media $\\mu_{i}$ = $i*10^{-2}$ y varianza $\\sigma_{j}$ = $j*10^{-3}$, de dimensión 100×1000 (i es la fila, j es la columna).\n",
        "\n",
        "b) Calcule la media por columna y  la desviación estándar por fila.  ¿Qué observa? \n",
        "\n",
        "c) Calcule el promedio por fila de los elementos que estén por encima de 0.7.\n",
        "\n",
        "<b>Tip</b>: Utilice <tt>np.where</tt> y, para el item c, un loop. Para el item a es posible hacer todo sin ningún loop."
      ]
    },
    {
      "cell_type": "code",
      "metadata": {
        "id": "ngQxNtt2S4Fn"
      },
      "source": [
        ""
      ],
      "execution_count": null,
      "outputs": []
    }
  ]
}