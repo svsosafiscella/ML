{
 "cells": [
  {
   "cell_type": "markdown",
   "metadata": {
    "id": "5HOQTYNi8Igw"
   },
   "source": [
    "# Análisis Exploratorio de Datos"
   ]
  },
  {
   "cell_type": "markdown",
   "metadata": {
    "id": "E_Jcrv918Ig1"
   },
   "source": [
    "## Introducción"
   ]
  },
  {
   "cell_type": "markdown",
   "metadata": {
    "id": "SP0s0Jtt8Ig1"
   },
   "source": [
    "Uno de los primeros pasos a la hora de realizar un proyecto que involucre el análisis de datos es explorar y visualizar los datos. El objetivo principal es obtener información sobre el contenido de los datos, ayudar a enmarcar las preguntas que haremos y detectar posibles vías para avanzar en las respuestas a estas preguntas."
   ]
  },
  {
   "cell_type": "markdown",
   "metadata": {
    "id": "nujSOCA48Ig1"
   },
   "source": [
    "Trabajaremos con un conjunto de datos clásico para Machine Learning, que consiste en datos de alojamiento para distritos en el estado de California, EE. UU. De hecho, usaremos una versión ligeramente modificada, preparada por Aurélien Géron."
   ]
  },
  {
   "cell_type": "markdown",
   "metadata": {
    "id": "F12WiLpi8Ig2"
   },
   "source": [
    "**Plan**\n",
    "\n",
    "La idea para hoy y para el jueves es dar los primeros pasos en la lista que hemos visto:\n",
    "\n",
    "1. Obtención de los datos.\n",
    "\n",
    "2. Exploración y visualización de los datos para obtener información.\n",
    "     * ¿Qué tipo de preguntas podemos abordar con este conjunto de datos?\n",
    "\n",
    "     * ¿Necesitamos datos adicionales?\n",
    "\n",
    "\n",
    "3. Definición del proyecto.\n",
    "\n",
    "4. Preprocesamiento. Preparación de los datos para los algoritmos de Machine Learning (El **jueves**).\n",
    "\n",
    "5. Selección de modelo, entrenamiento, puesta a punto, ... (**Jueves**)."
   ]
  },
  {
   "cell_type": "markdown",
   "metadata": {
    "id": "7YEZu4fk8Ig3"
   },
   "source": [
    "## Celdas preparatorias"
   ]
  },
  {
   "cell_type": "markdown",
   "metadata": {
    "id": "CUokyrE88Ig4"
   },
   "source": [
    "Antes que nada, corramos algunas celdas de código para prepararnos. Mucho de lo que viene a continuación está sacado del libro de Aurélien Geron, y su [repo de GitHub](https://github.com/ageron/handson-ml2), que recomendamos."
   ]
  },
  {
   "cell_type": "code",
   "execution_count": null,
   "metadata": {
    "id": "Y8dM4NS-8Ig4"
   },
   "outputs": [],
   "source": [
    "# Python ≥3.5 is required\n",
    "import sys\n",
    "assert sys.version_info >= (3, 5)\n",
    "\n",
    "# Scikit-Learn ≥0.20 is required\n",
    "import sklearn\n",
    "assert sklearn.__version__ >= \"0.20\"\n",
    "\n",
    "# Common imports\n",
    "import numpy as np\n",
    "import os\n",
    "\n",
    "# To plot pretty figures\n",
    "%matplotlib inline\n",
    "import matplotlib as mpl\n",
    "import matplotlib.pyplot as plt\n",
    "%matplotlib inline\n",
    "mpl.rc('axes', labelsize=14)\n",
    "mpl.rc('xtick', labelsize=12)\n",
    "mpl.rc('ytick', labelsize=12)\n",
    "\n",
    "# Where to save the figures\n",
    "PROJECT_ROOT_DIR = \".\"\n",
    "CHAPTER_ID = \"01_AED\"\n",
    "IMAGES_PATH = os.path.join(PROJECT_ROOT_DIR, \"images\", CHAPTER_ID)\n",
    "os.makedirs(IMAGES_PATH, exist_ok=True)\n",
    "\n",
    "def save_fig(fig_id, tight_layout=True, fig_extension=\"png\", resolution=300):\n",
    "    path = os.path.join(IMAGES_PATH, fig_id + \".\" + fig_extension)\n",
    "    print(\"Saving figure\", fig_id)\n",
    "    if tight_layout:\n",
    "        plt.tight_layout()\n",
    "    plt.savefig(path, format=fig_extension, dpi=resolution)\n",
    "\n",
    "# Ignore useless warnings (see SciPy issue #5998)\n",
    "import warnings\n",
    "warnings.filterwarnings(action=\"ignore\", message=\"^internal gelsd\")"
   ]
  },
  {
   "cell_type": "markdown",
   "metadata": {
    "id": "FA9wK7Dp8Ig4"
   },
   "source": [
    "## Obtención de los datos"
   ]
  },
  {
   "cell_type": "markdown",
   "metadata": {},
   "source": [
    "El primer paso es hacerse con el conjunto de datos. Un archivo `csv` está disponible en el repositorio del curso, así que simplemente definimos la ruta desde la cual leeremos el archivo."
   ]
  },
  {
   "cell_type": "code",
   "execution_count": null,
   "metadata": {
    "id": "lebtwstO8Ig4"
   },
   "outputs": [],
   "source": [
    "HOUSING_PATH = \"datasets\""
   ]
  },
  {
   "cell_type": "markdown",
   "metadata": {
    "id": "jEMkcn5g8Ig4"
   },
   "source": [
    "Sin embargo, si estás corriendo desde Colab, necesitamos descargar el archivo específicamente. Para evitar complicaciones al autenticarnos en nuestro repositorio, lo descargaremos de un repositorio público que hicimos para esto. (**Nota**: la siguiente celda no se ejecutará, a propósito, si no está usando Colab)."
   ]
  },
  {
   "cell_type": "code",
   "execution_count": null,
   "metadata": {
    "id": "pbbl9_wN8Ig5"
   },
   "outputs": [],
   "source": [
    "if 'google.colab' in sys.modules:\n",
    "        \n",
    "    import tarfile\n",
    "\n",
    "#     DOWNLOAD_ROOT = \"https://github.com/ageron/handson-ml2/raw/master/\"\n",
    "#     HOUSING_URL = DOWNLOAD_ROOT + \"datasets/housing/housing.tgz\"\n",
    "    DOWNLOAD_ROOT = \"https://github.com/IAI-UNSAM/datasets/raw/master/\"\n",
    "    HOUSING_URL = DOWNLOAD_ROOT + \"housing/housing.tgz\"\n",
    "\n",
    "    def fetch_housing_data(housing_url=HOUSING_URL, housing_path=HOUSING_PATH):\n",
    "        os.makedirs(housing_path, exist_ok=True)\n",
    "        !wget {housing_url} -P {housing_path}\n",
    "        tgz_path = os.path.join(housing_path, \"housing.tgz\")\n",
    "        housing_tgz = tarfile.open(tgz_path)\n",
    "        housing_tgz.extractall(path=housing_path)\n",
    "        housing_tgz.close()\n",
    "\n",
    "    # Corramos la función\n",
    "    fetch_housing_data()\n",
    "\n",
    "else: \n",
    "    print(\"No estás en Colab. Esta celda no hizo nada.\")"
   ]
  },
  {
   "cell_type": "code",
   "execution_count": null,
   "metadata": {
    "id": "6yoJLNym8Ig5"
   },
   "outputs": [],
   "source": [
    "import pandas as pd\n",
    "\n",
    "def load_housing_data(housing_path=HOUSING_PATH):\n",
    "    csv_path = os.path.join(housing_path, \"housing.csv\")\n",
    "    return pd.read_csv(csv_path)\n",
    "\n",
    "# The function loads the data as a Pandas DataFrame instance.\n",
    "housing = load_housing_data()"
   ]
  },
  {
   "cell_type": "markdown",
   "metadata": {},
   "source": [
    "## Exploración rápida de los datos"
   ]
  },
  {
   "cell_type": "markdown",
   "metadata": {},
   "source": [
    "Ahora tenemos los datos en un formato muy práctico (y de uso común), una instancia de `pandas.DataFrame`.\n",
    "\n",
    "Si no estás familiarizado con `Pandas`, veremos formas muy básicas de ver el contenido de una tabla. Acordate que siempre se puede agregar \"?\" A un objeto o método para acceder a su documentación (por ejemplo, `housing?` o `housing.head?`)."
   ]
  },
  {
   "cell_type": "markdown",
   "metadata": {},
   "source": [
    "***\n",
    "\n",
    "**1.** El método `.info` da información básica del contenido de cada columna."
   ]
  },
  {
   "cell_type": "code",
   "execution_count": null,
   "metadata": {
    "id": "pII0bUiF8Ig5",
    "scrolled": true
   },
   "outputs": [],
   "source": [
    "housing.info()"
   ]
  },
  {
   "cell_type": "markdown",
   "metadata": {},
   "source": [
    "Vemos que hay **20640** entradas, con 10 columnas cada una. A excepción de `ocean_proximity`, todas las columnas son números (`float64`). Además, faltan algunas entradas en la columna `total_bedrooms`."
   ]
  },
  {
   "cell_type": "markdown",
   "metadata": {},
   "source": [
    "Cada una de estas filas corresponde a un distrito de California. En la analogía del ejemplo de las acciones, cada fila es un momento en el tiempo en el que se evalúa el precio de las acciones de *Tech1*."
   ]
  },
  {
   "cell_type": "markdown",
   "metadata": {},
   "source": [
    "***\n",
    "\n",
    "**2.** Para ver las primeras líneas de la tabla, se usa el método `head`, que acepta un argumento optional para indicar cuántas líneas mostrar."
   ]
  },
  {
   "cell_type": "code",
   "execution_count": null,
   "metadata": {
    "id": "fy1a8U6y8Ig5",
    "scrolled": false
   },
   "outputs": [],
   "source": [
    "housing.head()"
   ]
  },
  {
   "cell_type": "markdown",
   "metadata": {},
   "source": [
    "**Nota**: se puede acceder al nombre de las columnas con el atributo de `columns`."
   ]
  },
  {
   "cell_type": "code",
   "execution_count": null,
   "metadata": {
    "scrolled": true
   },
   "outputs": [],
   "source": [
    "print(housing.columns)"
   ]
  },
  {
   "cell_type": "markdown",
   "metadata": {},
   "source": [
    "Veamos un poco más de cerca `ocean_proximity`. ¿Qué valores toma? (**Nota**: se puede acceder a las columnas como atributos del `DataFrame` o con una sintaxis similar a la de un diccionario. En otras palabras, los dos comandos de la celda siguiente son equivalentes)."
   ]
  },
  {
   "cell_type": "code",
   "execution_count": null,
   "metadata": {
    "scrolled": true
   },
   "outputs": [],
   "source": [
    "print(housing['ocean_proximity'].unique())\n",
    "print(housing.ocean_proximity.unique())"
   ]
  },
  {
   "cell_type": "markdown",
   "metadata": {},
   "source": [
    "Podemos dar un paso más y ver cuántas veces aparece cada valor."
   ]
  },
  {
   "cell_type": "code",
   "execution_count": null,
   "metadata": {},
   "outputs": [],
   "source": [
    "print(housing.ocean_proximity.value_counts())"
   ]
  },
  {
   "cell_type": "code",
   "execution_count": null,
   "metadata": {},
   "outputs": [],
   "source": [
    "# Or a normalized version\n",
    "print(housing.ocean_proximity.value_counts(normalize=True))"
   ]
  },
  {
   "cell_type": "markdown",
   "metadata": {},
   "source": [
    "***\n",
    "\n",
    "**3.** Para las columnas numéricas, podemos obtener estadísticos descriptivos simples usando el método `.describe`."
   ]
  },
  {
   "cell_type": "code",
   "execution_count": null,
   "metadata": {},
   "outputs": [],
   "source": [
    "housing.describe()"
   ]
  },
  {
   "cell_type": "markdown",
   "metadata": {},
   "source": [
    " **Nota 1**: este método excluye automáticamente las entradas vacías o `NaN` para el cálculo. Vean la entrada `count` de la columna `total_bedrooms`.\n",
    " \n",
    " **Nota 2**: se puede ajustar qué percentiles se calculan usando el argumento `percentiles` del método `describe`."
   ]
  },
  {
   "cell_type": "markdown",
   "metadata": {},
   "source": [
    "***\n",
    "**4.** Podemos ordenar la tabla para ver los distritos en los que alguna columna toma valores extremos."
   ]
  },
  {
   "cell_type": "code",
   "execution_count": null,
   "metadata": {},
   "outputs": [],
   "source": [
    "housing.sort_values(by='median_income', ascending=False)"
   ]
  },
  {
   "cell_type": "markdown",
   "metadata": {},
   "source": [
    "Tal vez ya identificaron algunos comportamientos patológicos, pero nos guardamos un análisis más detallado para que se diviertan el jueves."
   ]
  },
  {
   "cell_type": "markdown",
   "metadata": {},
   "source": [
    "***\n",
    "\n",
    "**5.** Podemos agrupar entradas en función del valor de una variable determinada. Esto es útil para un análisis rápido de los datos."
   ]
  },
  {
   "cell_type": "markdown",
   "metadata": {},
   "source": [
    "Por ejemplo, veamos cómo cambian los valores medios de las columnas con la variable `ocean_proximity`."
   ]
  },
  {
   "cell_type": "code",
   "execution_count": null,
   "metadata": {},
   "outputs": [],
   "source": [
    "housing.groupby(by='ocean_proximity').mean()"
   ]
  },
  {
   "cell_type": "markdown",
   "metadata": {},
   "source": [
    "***\n",
    "\n",
    "**6.** Por último, pero no por eso menos importante, podemos calcular estadísticos que involucran más de una variable. El más común es el coeficiente de correlación de Pearson."
   ]
  },
  {
   "cell_type": "markdown",
   "metadata": {},
   "source": [
    "Todavía no estamos para dar una definición formal, pero digamos que el coeficiente de Pearson de dos variables $X$ e $Y$, que llamamos $\\hat{\\rho_{XY}}$, es un _estimador_ del coeficiente de correlación poblacional:\n",
    "\n",
    "$$\n",
    "\\hat{\\rho_{XY}} = r = \\frac{\\hat{\\mathrm{cov}}_{XY}}{\\hat{\\sigma}_X \\hat{\\sigma}_Y}\\;\\;,\n",
    "$$\n",
    "donde \n",
    "\n",
    "$$\n",
    "\\hat{\\sigma}_X^2 = \\frac{1}{N - 1}\\sum_{i=1}^N (x_i - \\bar{X})^2\\;\\;,\n",
    "$$\n",
    "$$\n",
    "\\hat{\\mathrm{cov}}_{XY} = \\frac{1}{N - 1}\\sum_{i=1}^N (x_i - \\bar{X})(y_i - \\bar{Y})\\;\\;,\n",
    "$$\n",
    "y\n",
    "$$\n",
    "\\hat{\\mu_X} = \\bar{X}\\;\\;.\n",
    "$$"
   ]
  },
  {
   "cell_type": "markdown",
   "metadata": {},
   "source": [
    "Los valores extremos son -1 y 1, para una (anti-)correlación lineal perfecta entre ambas variables.\n",
    "\n",
    "Ah, entonces $r=0$ significa que las variables no están correlacionadas, ¿no? .... **¡No!**."
   ]
  },
  {
   "cell_type": "markdown",
   "metadata": {},
   "source": [
    "Pero no te preocupes por todos estos detalles si esto no te resulta familiar. Para obtener una idea más intuitiva, analicemos esta imagen, tomada de [Wikipedia](https://en.wikipedia.org/wiki/Pearson_correlation_coefficient):\n",
    "\n",
    "<img src=\"https://upload.wikimedia.org/wikipedia/commons/d/d4/Correlation_examples2.svg\">\n",
    "\n",
    "Los números sobre cada subimagen indican el valor del coeficiente de Pearson. **¿Qué te hace pensar esta figura?**"
   ]
  },
  {
   "cell_type": "markdown",
   "metadata": {},
   "source": [
    "Calculemos ahora el coeficiente de Pearson para cada par de variables del conjunto de datos de California."
   ]
  },
  {
   "cell_type": "code",
   "execution_count": null,
   "metadata": {},
   "outputs": [],
   "source": [
    "# The correlation between all pairs of variables is easily computed with Pandas.\n",
    "corr_matrix = housing.corr()"
   ]
  },
  {
   "cell_type": "code",
   "execution_count": null,
   "metadata": {},
   "outputs": [],
   "source": [
    "# What size do you expect `corr_matrix` to be?\n",
    "print(corr_matrix.shape)"
   ]
  },
  {
   "cell_type": "markdown",
   "metadata": {},
   "source": [
    "Podemos imprimir la matriz; pero más interesante, la podemos graficar."
   ]
  },
  {
   "cell_type": "code",
   "execution_count": null,
   "metadata": {},
   "outputs": [],
   "source": [
    "print(corr_matrix)"
   ]
  },
  {
   "cell_type": "code",
   "execution_count": null,
   "metadata": {
    "scrolled": true
   },
   "outputs": [],
   "source": [
    "plt.imshow(corr_matrix)\n",
    "\n",
    "# Set ticks\n",
    "xt = plt.xticks(np.arange(9), housing.columns[:-1], rotation=45, ha='right', va='top')\n",
    "yt = plt.yticks(np.arange(9), housing.columns[:-1], rotation=0, ha='right', va='center')\n",
    "\n",
    "# Set colorbar\n",
    "plt.colorbar(label='Pearson CC')"
   ]
  },
  {
   "cell_type": "markdown",
   "metadata": {},
   "source": [
    "## Preguntas"
   ]
  },
  {
   "cell_type": "markdown",
   "metadata": {
    "id": "xRVhbZaW8Ig6"
   },
   "source": [
    "***\n",
    "Ahora que recorrimos un poco los datos, podemos deternenos un minuto a hacernos unas preguntas. \n",
    "No hay respuestas correctas o incorrectas\n",
    "\n",
    "1) ¿Qué preguntas pueden responder estos datos?\n",
    "\n",
    "2) ¿Cuáles serían los primeros pasos para encontrar respuestas a esas preguntas?\n",
    "\n",
    "3) ¿Qué variables serían más relevantes en ese caso?"
   ]
  },
  {
   "cell_type": "markdown",
   "metadata": {},
   "source": [
    "***\n",
    "<font size=5>**¿Descanso?**</font>"
   ]
  },
  {
   "cell_type": "markdown",
   "metadata": {
    "id": "TdUs5vp08Ig6"
   },
   "source": [
    "## Visualización"
   ]
  },
  {
   "cell_type": "markdown",
   "metadata": {
    "id": "YtUiIyuE8Ig7"
   },
   "source": [
    "¡Una excelente manera de obtener información a partir del conjunto de datos es hacer gráficos!\n",
    "\n",
    "`Pandas` tiene un lindo *wrapper* a `matplotlib.pyplot`, but intentaremos usar exclusivamente las funciones de `pyplot` (que importamos arriba como `plt`)."
   ]
  },
  {
   "cell_type": "markdown",
   "metadata": {
    "id": "Hs07uNXM8Ig7"
   },
   "source": [
    "Algunas funciones que podemos probar son:\n",
    "\n",
    "* `plt.plot` o `plt.scatter` para graficar una variable en función de otra.\n",
    "* `plt.hist` o `plt.bar` para ver cómo se distribuyen los valores de una variable.\n",
    "\n",
    "Y para los que tengan más tendencia a la estadística:\n",
    "\n",
    "* `plt.boxplot` para comparar las distribuciones de las variables.\n",
    "* `plt.violinplot` para hacer lo mismo usando una estimación de *kernel* (que es un algoritmo considerado de machine learning).\n",
    "\n",
    "Recuerdá que podés obtener la documentación de cada función agregando `?` al nombre. Por ejemplo:"
   ]
  },
  {
   "cell_type": "code",
   "execution_count": null,
   "metadata": {},
   "outputs": [],
   "source": [
    "plt.plot?"
   ]
  },
  {
   "cell_type": "markdown",
   "metadata": {},
   "source": [
    "Para ponerlo a prueba, hagamos un gráfico simple de latitud versus longitud."
   ]
  },
  {
   "cell_type": "code",
   "execution_count": null,
   "metadata": {},
   "outputs": [],
   "source": [
    "# Let's make  simple plot of latitude vs longitude\n",
    "scatter = plt.scatter(housing.longitude, housing.latitude)\n",
    "#plt.xlabel('Longitude')\n",
    "#plt.ylabel('Latitude')"
   ]
  },
  {
   "cell_type": "markdown",
   "metadata": {},
   "source": [
    "Esta es un gráfico bastante feo. No nos dice mucho. Podemos distinguir la forma de California, pero eso es todo.\n",
    "\n",
    "<img src=\"images/01_AED/Map_of_California.png\" width=350/>"
   ]
  },
  {
   "cell_type": "markdown",
   "metadata": {},
   "source": [
    "¡Seguro que podemos hacer algo mejor! Estoy seguro de que podés ayudar ..."
   ]
  },
  {
   "cell_type": "markdown",
   "metadata": {},
   "source": [
    "***\n",
    "<font size=7>¡Preparen sus teclados!</font>\n",
    "<!-- ### Prepare your keyboards! -->\n",
    "\n",
    "\n",
    "* Intentá hacer histogramas de varias variables (las que te parezcan más relevantes). ¿Notás algo que te llame la atención?\n",
    "* Probá hacer algunos *scatter plots*.\n",
    "* Se puede incluir más variables en un *scatter plot* usando los argumentos `color` (o `c`) y `size` (o `s`). También, podés intentar obtener gráficos más agradables y útiles haciendo que los puntos sean semi-transparentes con el argumento `alpha`.\n",
    "\n",
    "**Nota**: podés salvar las figuras que quieras con la función `save_fig`, que definimos al principio del notebook."
   ]
  },
  {
   "cell_type": "code",
   "execution_count": null,
   "metadata": {
    "id": "1U9Kqs8U8Ig7"
   },
   "outputs": [],
   "source": [
    "plt.scatter(housing.longitude, housing.latitude)\n",
    "save_fig(\"bad_visualization_plot\")"
   ]
  },
  {
   "cell_type": "code",
   "execution_count": null,
   "metadata": {},
   "outputs": [],
   "source": []
  }
 ],
 "metadata": {
  "colab": {
   "collapsed_sections": [
    "BultmQLe8Ig-",
    "icMczJ8k8IhA"
   ],
   "name": "01_Intro.ipynb",
   "provenance": []
  },
  "kernelspec": {
   "display_name": "Python 3",
   "language": "python",
   "name": "python3"
  },
  "language_info": {
   "codemirror_mode": {
    "name": "ipython",
    "version": 3
   },
   "file_extension": ".py",
   "mimetype": "text/x-python",
   "name": "python",
   "nbconvert_exporter": "python",
   "pygments_lexer": "ipython3",
   "version": "3.8.3"
  },
  "nav_menu": {
   "height": "279px",
   "width": "309px"
  },
  "toc": {
   "base_numbering": 1,
   "nav_menu": {},
   "number_sections": true,
   "sideBar": true,
   "skip_h1_title": false,
   "title_cell": "Table of Contents",
   "title_sidebar": "Contents",
   "toc_cell": false,
   "toc_position": {
    "height": "calc(100% - 180px)",
    "left": "10px",
    "top": "150px",
    "width": "288px"
   },
   "toc_section_display": "block",
   "toc_window_display": true
  }
 },
 "nbformat": 4,
 "nbformat_minor": 1
}
